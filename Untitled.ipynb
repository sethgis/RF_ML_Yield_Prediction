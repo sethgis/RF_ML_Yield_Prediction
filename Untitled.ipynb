{
 "cells": [
  {
   "cell_type": "code",
   "execution_count": 1,
   "id": "848071dc",
   "metadata": {},
   "outputs": [],
   "source": [
    "import pandas as pd\n",
    "import numpy as np\n",
    "import matplotlib.pyplot as plt\n",
    "import seaborn as sns\n",
    "# import geopandas as gpd\n",
    "import plotly.express as px"
   ]
  },
  {
   "cell_type": "code",
   "execution_count": 2,
   "id": "71d8b7ad",
   "metadata": {
    "scrolled": true
   },
   "outputs": [
    {
     "name": "stdout",
     "output_type": "stream",
     "text": [
      "Collecting pandas-profiling\n",
      "  Downloading pandas_profiling-3.6.6-py2.py3-none-any.whl (324 kB)\n",
      "\u001b[2K     \u001b[90m━━━━━━━━━━━━━━━━━━━━━━━━━━━━━━━━━━━━━━━\u001b[0m \u001b[32m324.4/324.4 kB\u001b[0m \u001b[31m1.4 MB/s\u001b[0m eta \u001b[36m0:00:00\u001b[0m00:01\u001b[0m00:01\u001b[0m\n",
      "\u001b[?25hCollecting ydata-profiling\n",
      "  Downloading ydata_profiling-4.6.0-py2.py3-none-any.whl (357 kB)\n",
      "\u001b[2K     \u001b[90m━━━━━━━━━━━━━━━━━━━━━━━━━━━━━━━━━━━━━━━\u001b[0m \u001b[32m357.5/357.5 kB\u001b[0m \u001b[31m5.7 MB/s\u001b[0m eta \u001b[36m0:00:00\u001b[0m00:01\u001b[0m\n",
      "\u001b[?25hCollecting pydantic<2,>=1.8.1\n",
      "  Downloading pydantic-1.10.13-cp310-cp310-macosx_10_9_x86_64.whl (2.9 MB)\n",
      "\u001b[2K     \u001b[90m━━━━━━━━━━━━━━━━━━━━━━━━━━━━━━━━━━━━━━━━\u001b[0m \u001b[32m2.9/2.9 MB\u001b[0m \u001b[31m7.9 MB/s\u001b[0m eta \u001b[36m0:00:00\u001b[0m00:01\u001b[0m00:01\u001b[0mm\n",
      "\u001b[?25hRequirement already satisfied: scipy<1.12,>=1.4.1 in /Users/sethnyawacha/anaconda3/lib/python3.10/site-packages (from ydata-profiling->pandas-profiling) (1.10.0)\n",
      "Collecting multimethod<2,>=1.4\n",
      "  Downloading multimethod-1.10-py3-none-any.whl (9.9 kB)\n",
      "Requirement already satisfied: pandas!=1.4.0,<2.1,>1.1 in /Users/sethnyawacha/anaconda3/lib/python3.10/site-packages (from ydata-profiling->pandas-profiling) (1.5.3)\n",
      "Collecting dacite>=1.8\n",
      "  Downloading dacite-1.8.1-py3-none-any.whl (14 kB)\n",
      "Collecting phik<0.13,>=0.11.1\n",
      "  Downloading phik-0.12.3-cp310-cp310-macosx_10_13_x86_64.whl (652 kB)\n",
      "\u001b[2K     \u001b[90m━━━━━━━━━━━━━━━━━━━━━━━━━━━━━━━━━━━━━━━\u001b[0m \u001b[32m652.9/652.9 kB\u001b[0m \u001b[31m8.5 MB/s\u001b[0m eta \u001b[36m0:00:00\u001b[0ma \u001b[36m0:00:01\u001b[0m\n",
      "\u001b[?25hRequirement already satisfied: seaborn<0.13,>=0.10.1 in /Users/sethnyawacha/anaconda3/lib/python3.10/site-packages (from ydata-profiling->pandas-profiling) (0.12.2)\n",
      "Collecting imagehash==4.3.1\n",
      "  Downloading ImageHash-4.3.1-py2.py3-none-any.whl (296 kB)\n",
      "\u001b[2K     \u001b[90m━━━━━━━━━━━━━━━━━━━━━━━━━━━━━━━━━━━━━━━\u001b[0m \u001b[32m296.5/296.5 kB\u001b[0m \u001b[31m6.3 MB/s\u001b[0m eta \u001b[36m0:00:00\u001b[0ma \u001b[36m0:00:01\u001b[0m\n",
      "\u001b[?25hRequirement already satisfied: statsmodels<1,>=0.13.2 in /Users/sethnyawacha/anaconda3/lib/python3.10/site-packages (from ydata-profiling->pandas-profiling) (0.13.5)\n",
      "Requirement already satisfied: tqdm<5,>=4.48.2 in /Users/sethnyawacha/anaconda3/lib/python3.10/site-packages (from ydata-profiling->pandas-profiling) (4.64.1)\n",
      "Requirement already satisfied: requests<3,>=2.24.0 in /Users/sethnyawacha/anaconda3/lib/python3.10/site-packages (from ydata-profiling->pandas-profiling) (2.28.1)\n",
      "Requirement already satisfied: matplotlib<=3.7.3,>=3.2 in /Users/sethnyawacha/anaconda3/lib/python3.10/site-packages (from ydata-profiling->pandas-profiling) (3.7.0)\n",
      "Requirement already satisfied: numba<0.59.0,>=0.56.0 in /Users/sethnyawacha/anaconda3/lib/python3.10/site-packages (from ydata-profiling->pandas-profiling) (0.56.4)\n",
      "Collecting visions[type_image_path]==0.7.5\n",
      "  Downloading visions-0.7.5-py3-none-any.whl (102 kB)\n",
      "\u001b[2K     \u001b[90m━━━━━━━━━━━━━━━━━━━━━━━━━━━━━━━━━━━━━━━\u001b[0m \u001b[32m102.7/102.7 kB\u001b[0m \u001b[31m3.5 MB/s\u001b[0m eta \u001b[36m0:00:00\u001b[0m\n",
      "\u001b[?25hCollecting typeguard<5,>=4.1.2\n",
      "  Downloading typeguard-4.1.5-py3-none-any.whl (34 kB)\n",
      "Requirement already satisfied: numpy<1.26,>=1.16.0 in /Users/sethnyawacha/anaconda3/lib/python3.10/site-packages (from ydata-profiling->pandas-profiling) (1.23.5)\n",
      "Collecting wordcloud>=1.9.1\n",
      "  Downloading wordcloud-1.9.2-cp310-cp310-macosx_10_9_x86_64.whl (160 kB)\n",
      "\u001b[2K     \u001b[90m━━━━━━━━━━━━━━━━━━━━━━━━━━━━━━━━━━━━━━━\u001b[0m \u001b[32m160.5/160.5 kB\u001b[0m \u001b[31m5.8 MB/s\u001b[0m eta \u001b[36m0:00:00\u001b[0m\n",
      "\u001b[?25hRequirement already satisfied: PyYAML<6.1,>=5.0.0 in /Users/sethnyawacha/anaconda3/lib/python3.10/site-packages (from ydata-profiling->pandas-profiling) (6.0)\n",
      "Collecting htmlmin==0.1.12\n",
      "  Downloading htmlmin-0.1.12.tar.gz (19 kB)\n",
      "  Preparing metadata (setup.py) ... \u001b[?25ldone\n",
      "\u001b[?25hRequirement already satisfied: jinja2<3.2,>=2.11.1 in /Users/sethnyawacha/anaconda3/lib/python3.10/site-packages (from ydata-profiling->pandas-profiling) (3.1.2)\n",
      "Requirement already satisfied: PyWavelets in /Users/sethnyawacha/anaconda3/lib/python3.10/site-packages (from imagehash==4.3.1->ydata-profiling->pandas-profiling) (1.4.1)\n",
      "Requirement already satisfied: pillow in /Users/sethnyawacha/anaconda3/lib/python3.10/site-packages (from imagehash==4.3.1->ydata-profiling->pandas-profiling) (9.4.0)\n",
      "Requirement already satisfied: networkx>=2.4 in /Users/sethnyawacha/anaconda3/lib/python3.10/site-packages (from visions[type_image_path]==0.7.5->ydata-profiling->pandas-profiling) (2.8.4)\n",
      "Collecting tangled-up-in-unicode>=0.0.4\n",
      "  Downloading tangled_up_in_unicode-0.2.0-py3-none-any.whl (4.7 MB)\n",
      "\u001b[2K     \u001b[90m━━━━━━━━━━━━━━━━━━━━━━━━━━━━━━━━━━━━━━━━\u001b[0m \u001b[32m4.7/4.7 MB\u001b[0m \u001b[31m8.7 MB/s\u001b[0m eta \u001b[36m0:00:00\u001b[0m00:01\u001b[0m00:01\u001b[0m\n",
      "\u001b[?25hRequirement already satisfied: attrs>=19.3.0 in /Users/sethnyawacha/anaconda3/lib/python3.10/site-packages (from visions[type_image_path]==0.7.5->ydata-profiling->pandas-profiling) (22.1.0)\n",
      "Requirement already satisfied: MarkupSafe>=2.0 in /Users/sethnyawacha/anaconda3/lib/python3.10/site-packages (from jinja2<3.2,>=2.11.1->ydata-profiling->pandas-profiling) (2.1.1)\n",
      "Requirement already satisfied: python-dateutil>=2.7 in /Users/sethnyawacha/anaconda3/lib/python3.10/site-packages (from matplotlib<=3.7.3,>=3.2->ydata-profiling->pandas-profiling) (2.8.2)\n",
      "Requirement already satisfied: fonttools>=4.22.0 in /Users/sethnyawacha/anaconda3/lib/python3.10/site-packages (from matplotlib<=3.7.3,>=3.2->ydata-profiling->pandas-profiling) (4.25.0)\n",
      "Requirement already satisfied: packaging>=20.0 in /Users/sethnyawacha/anaconda3/lib/python3.10/site-packages (from matplotlib<=3.7.3,>=3.2->ydata-profiling->pandas-profiling) (22.0)\n",
      "Requirement already satisfied: pyparsing>=2.3.1 in /Users/sethnyawacha/anaconda3/lib/python3.10/site-packages (from matplotlib<=3.7.3,>=3.2->ydata-profiling->pandas-profiling) (3.0.9)\n",
      "Requirement already satisfied: kiwisolver>=1.0.1 in /Users/sethnyawacha/anaconda3/lib/python3.10/site-packages (from matplotlib<=3.7.3,>=3.2->ydata-profiling->pandas-profiling) (1.4.4)\n",
      "Requirement already satisfied: cycler>=0.10 in /Users/sethnyawacha/anaconda3/lib/python3.10/site-packages (from matplotlib<=3.7.3,>=3.2->ydata-profiling->pandas-profiling) (0.11.0)\n",
      "Requirement already satisfied: contourpy>=1.0.1 in /Users/sethnyawacha/anaconda3/lib/python3.10/site-packages (from matplotlib<=3.7.3,>=3.2->ydata-profiling->pandas-profiling) (1.0.5)\n",
      "Requirement already satisfied: llvmlite<0.40,>=0.39.0dev0 in /Users/sethnyawacha/anaconda3/lib/python3.10/site-packages (from numba<0.59.0,>=0.56.0->ydata-profiling->pandas-profiling) (0.39.1)\n",
      "Requirement already satisfied: setuptools in /Users/sethnyawacha/anaconda3/lib/python3.10/site-packages (from numba<0.59.0,>=0.56.0->ydata-profiling->pandas-profiling) (65.6.3)\n",
      "Requirement already satisfied: pytz>=2020.1 in /Users/sethnyawacha/anaconda3/lib/python3.10/site-packages (from pandas!=1.4.0,<2.1,>1.1->ydata-profiling->pandas-profiling) (2022.7)\n",
      "Requirement already satisfied: joblib>=0.14.1 in /Users/sethnyawacha/anaconda3/lib/python3.10/site-packages (from phik<0.13,>=0.11.1->ydata-profiling->pandas-profiling) (1.1.1)\n",
      "Requirement already satisfied: typing-extensions>=4.2.0 in /Users/sethnyawacha/anaconda3/lib/python3.10/site-packages (from pydantic<2,>=1.8.1->ydata-profiling->pandas-profiling) (4.4.0)\n",
      "Requirement already satisfied: charset-normalizer<3,>=2 in /Users/sethnyawacha/anaconda3/lib/python3.10/site-packages (from requests<3,>=2.24.0->ydata-profiling->pandas-profiling) (2.0.4)\n",
      "Requirement already satisfied: idna<4,>=2.5 in /Users/sethnyawacha/anaconda3/lib/python3.10/site-packages (from requests<3,>=2.24.0->ydata-profiling->pandas-profiling) (3.4)\n",
      "Requirement already satisfied: urllib3<1.27,>=1.21.1 in /Users/sethnyawacha/anaconda3/lib/python3.10/site-packages (from requests<3,>=2.24.0->ydata-profiling->pandas-profiling) (1.26.14)\n",
      "Requirement already satisfied: certifi>=2017.4.17 in /Users/sethnyawacha/anaconda3/lib/python3.10/site-packages (from requests<3,>=2.24.0->ydata-profiling->pandas-profiling) (2022.12.7)\n",
      "Requirement already satisfied: patsy>=0.5.2 in /Users/sethnyawacha/anaconda3/lib/python3.10/site-packages (from statsmodels<1,>=0.13.2->ydata-profiling->pandas-profiling) (0.5.3)\n",
      "Collecting typing-extensions>=4.2.0\n",
      "  Downloading typing_extensions-4.8.0-py3-none-any.whl (31 kB)\n",
      "Requirement already satisfied: six in /Users/sethnyawacha/anaconda3/lib/python3.10/site-packages (from patsy>=0.5.2->statsmodels<1,>=0.13.2->ydata-profiling->pandas-profiling) (1.16.0)\n"
     ]
    },
    {
     "name": "stdout",
     "output_type": "stream",
     "text": [
      "Building wheels for collected packages: htmlmin\n",
      "  Building wheel for htmlmin (setup.py) ... \u001b[?25ldone\n",
      "\u001b[?25h  Created wheel for htmlmin: filename=htmlmin-0.1.12-py3-none-any.whl size=27081 sha256=2baea973b0290f176bc833d7d1627b103fe7adeba2f645361d4964ff5b393677\n",
      "  Stored in directory: /Users/sethnyawacha/Library/Caches/pip/wheels/ea/1c/a8/5cec3479cd45136a7111e2d96aac299b219b199c411665250b\n",
      "Successfully built htmlmin\n",
      "Installing collected packages: htmlmin, typing-extensions, tangled-up-in-unicode, multimethod, dacite, typeguard, pydantic, imagehash, wordcloud, visions, phik, ydata-profiling, pandas-profiling\n",
      "  Attempting uninstall: typing-extensions\n",
      "    Found existing installation: typing_extensions 4.4.0\n",
      "    Uninstalling typing_extensions-4.4.0:\n",
      "      Successfully uninstalled typing_extensions-4.4.0\n",
      "Successfully installed dacite-1.8.1 htmlmin-0.1.12 imagehash-4.3.1 multimethod-1.10 pandas-profiling-3.6.6 phik-0.12.3 pydantic-1.10.13 tangled-up-in-unicode-0.2.0 typeguard-4.1.5 typing-extensions-4.8.0 visions-0.7.5 wordcloud-1.9.2 ydata-profiling-4.6.0\n"
     ]
    }
   ],
   "source": [
    "!pip install pandas-profiling\n"
   ]
  },
  {
   "cell_type": "code",
   "execution_count": null,
   "id": "fbfa33b8",
   "metadata": {},
   "outputs": [],
   "source": [
    "from pandas_profiling import ProfileReport"
   ]
  }
 ],
 "metadata": {
  "kernelspec": {
   "display_name": "Python 3 (ipykernel)",
   "language": "python",
   "name": "python3"
  },
  "language_info": {
   "codemirror_mode": {
    "name": "ipython",
    "version": 3
   },
   "file_extension": ".py",
   "mimetype": "text/x-python",
   "name": "python",
   "nbconvert_exporter": "python",
   "pygments_lexer": "ipython3",
   "version": "3.10.9"
  }
 },
 "nbformat": 4,
 "nbformat_minor": 5
}
